{
 "cells": [
  {
   "cell_type": "code",
   "execution_count": 1,
   "metadata": {},
   "outputs": [],
   "source": [
    "import numpy as np"
   ]
  },
  {
   "cell_type": "code",
   "execution_count": 3,
   "metadata": {},
   "outputs": [
    {
     "data": {
      "text/plain": [
       "array([1, 2, 3, 4, 5])"
      ]
     },
     "execution_count": 3,
     "metadata": {},
     "output_type": "execute_result"
    }
   ],
   "source": [
    "# 创建数组\n",
    "\n",
    "# 使用list创建\n",
    "LIST1 = [1, 2, 3, 4, 5]\n",
    "np.array(LIST1)"
   ]
  },
  {
   "cell_type": "code",
   "execution_count": 31,
   "metadata": {},
   "outputs": [
    {
     "name": "stdout",
     "output_type": "stream",
     "text": [
      "X1: [[0. 0. 0. 0. 0.]\n",
      " [0. 0. 0. 0. 0.]\n",
      " [0. 0. 0. 0. 0.]]\n",
      "X2: [[1. 1. 1. 1. 1.]\n",
      " [1. 1. 1. 1. 1.]\n",
      " [1. 1. 1. 1. 1.]]\n",
      "X3: [[3.14 3.14 3.14 3.14 3.14]\n",
      " [3.14 3.14 3.14 3.14 3.14]\n",
      " [3.14 3.14 3.14 3.14 3.14]]\n",
      "X6: [[0.63883053 0.51625576 0.5720904  0.92755137 0.4643032 ]\n",
      " [0.17776644 0.53578845 0.30876451 0.57387445 0.2617832 ]\n",
      " [0.96471865 0.66429978 0.15124432 0.85818558 0.51924439]]\n"
     ]
    }
   ],
   "source": [
    "# 从头创建数组\n",
    "\n",
    "SHAPE = tuple((3, 5))\n",
    "NUM = 3.14\n",
    "START = 0\n",
    "END  = 20\n",
    "JUMP = 2\n",
    "\n",
    "X1 = np.zeros(SHAPE)\n",
    "X2 = np.ones(SHAPE)\n",
    "X3 = np.full(SHAPE, NUM)\n",
    "X4 = np.arange(START, END, JUMP)\n",
    "X5 = np.linspace(START, END, 5)\n",
    "X6 = np.random.random(SHAPE)\n",
    "X7 = np.random.normal(0, 1, SHAPE) # 0代表平均均值 1代表方差\n",
    "X8 = np.random.randint(START, END, SHAPE)\n",
    "X9 = np.eye(3)\n",
    "X10 = np.empty(SHAPE)\n",
    "\n",
    "print(\"X1:\", X1)\n",
    "print(\"X2:\", X2)\n",
    "print(\"X3:\", X3)\n",
    "print(\"X6:\", X6)"
   ]
  },
  {
   "cell_type": "code",
   "execution_count": 33,
   "metadata": {},
   "outputs": [
    {
     "name": "stdout",
     "output_type": "stream",
     "text": [
      "(3, 5)\n",
      "15\n",
      "2\n",
      "float64\n",
      "8\n",
      "120\n"
     ]
    }
   ],
   "source": [
    "# 数组的属性\n",
    "\n",
    "print(X1.shape)\n",
    "print(X1.size)\n",
    "print(X1.ndim)\n",
    "print(X1.dtype)\n",
    "print(X1.itemsize)\n",
    "print(X1.nbytes)"
   ]
  },
  {
   "cell_type": "code",
   "execution_count": 40,
   "metadata": {},
   "outputs": [
    {
     "name": "stdout",
     "output_type": "stream",
     "text": [
      "[ 0  2  4  6  8 10 12 14 16 18]\n",
      "0\n",
      "18\n",
      "[18 16 14 12 10  8  6  4  2  0]\n"
     ]
    }
   ],
   "source": [
    "# 一维数组\n",
    "\n",
    "print(X4)\n",
    "print(X4[0])\n",
    "print(X4[-1])\n",
    "print(X4[::-1])"
   ]
  },
  {
   "cell_type": "code",
   "execution_count": 48,
   "metadata": {},
   "outputs": [
    {
     "name": "stdout",
     "output_type": "stream",
     "text": [
      "[[16 13 14 17 15]\n",
      " [ 3  3  1 16  7]\n",
      " [15 16 17  6 12]]\n",
      "[[16 13 14]\n",
      " [ 3  3  1]]\n",
      "[[16 13]\n",
      " [ 3  3]]\n"
     ]
    }
   ],
   "source": [
    "# 多维数组\n",
    "X11 = np.random.randint(0, 20, (3, 5))\n",
    "print(X11)\n",
    "print(X11[:2, :3])\n",
    "\n",
    "X11_sub_copy = X11[:2, :2].copy()  #c创建数组的副本\n",
    "print(X11_sub_copy)"
   ]
  },
  {
   "cell_type": "code",
   "execution_count": 56,
   "metadata": {},
   "outputs": [
    {
     "name": "stdout",
     "output_type": "stream",
     "text": [
      "[[1]\n",
      " [2]\n",
      " [3]]\n",
      "[[1 2 3]]\n",
      "[[1]\n",
      " [2]\n",
      " [3]]\n"
     ]
    }
   ],
   "source": [
    "# 数组的变形\n",
    "\n",
    "X12  = np.array([1, 2, 3])\n",
    "print(X12.reshape((3, 1)))\n",
    "print(X12[np.newaxis, :])\n",
    "print(X12[:, np.newaxis])"
   ]
  },
  {
   "cell_type": "code",
   "execution_count": 61,
   "metadata": {},
   "outputs": [
    {
     "name": "stdout",
     "output_type": "stream",
     "text": [
      "[1 2 3 3 2 1]\n",
      "[ 1  2  3  3  2  1 99 99 99]\n",
      "[[1 2 3]\n",
      " [4 5 6]\n",
      " [1 2 3]\n",
      " [4 5 6]]\n",
      "[[1 2 3 1 2 3]\n",
      " [4 5 6 4 5 6]]\n",
      "[[1 2 3]\n",
      " [1 2 3]\n",
      " [4 5 6]]\n"
     ]
    }
   ],
   "source": [
    "# 数组拼接\n",
    "\n",
    "x = np.array([1, 2, 3])\n",
    "y = np.array([3, 2, 1])\n",
    "print(np.concatenate([x,y]))\n",
    "z = [99, 99, 99]\n",
    "print(np.concatenate([x, y, z]))\n",
    "grid = np.array([[1, 2, 3],\n",
    "                [4, 5, 6]])\n",
    "\n",
    "print(np.concatenate([grid, grid]))    # 沿着第一个轴拼接\n",
    "print(np.concatenate([grid, grid], axis=1)) # 沿着第二个轴拼接\n",
    "  \n",
    "print(np.vstack([x, grid]))   #垂直拼接 \n",
    "print(np.hstack([x, grid]))   #水平拼接 "
   ]
  },
  {
   "cell_type": "code",
   "execution_count": 74,
   "metadata": {},
   "outputs": [
    {
     "name": "stdout",
     "output_type": "stream",
     "text": [
      "[1 2 3] [99 99] [3 2 1]\n",
      "grid: [[ 0  1  2  3]\n",
      " [ 4  5  6  7]\n",
      " [ 8  9 10 11]\n",
      " [12 13 14 15]]\n",
      "upper: [[0 1 2 3]\n",
      " [4 5 6 7]] \n",
      " lower: [[ 8  9 10 11]\n",
      " [12 13 14 15]]\n",
      "left: [[ 0  1]\n",
      " [ 4  5]\n",
      " [ 8  9]\n",
      " [12 13]] \n",
      " right: [[ 2  3]\n",
      " [ 6  7]\n",
      " [10 11]\n",
      " [14 15]]\n"
     ]
    }
   ],
   "source": [
    "# 分裂\n",
    "x = [1, 2, 3, 99, 99, 3, 2, 1]\n",
    "x1, x2, x3 = np.split(x, [3, 5])   #[3, 5]分裂位置记录\n",
    "print(x1, x2, x3)\n",
    "\n",
    "grid = np.arange(16).reshape((4, 4))\n",
    "print(\"grid:\", grid)\n",
    "upper, lower = np.vsplit(grid, [2])\n",
    "print(\"upper:\", upper, \"\\n\", \"lower:\", lower)\n",
    "left, right = np.hsplit(grid, [2])\n",
    "print(\"left:\", left, \"\\n\", \"right:\", right)"
   ]
  },
  {
   "cell_type": "code",
   "execution_count": 90,
   "metadata": {},
   "outputs": [
    {
     "name": "stdout",
     "output_type": "stream",
     "text": [
      "x     = [0 1 2 3]\n",
      "x + 5 = [5 6 7 8]\n",
      "x - 5 = [-5 -4 -3 -2]\n",
      "x * 2 = [0 2 4 6]\n",
      "x / 2 = [0.  0.5 1.  1.5]\n",
      "x // 2= [0 0 1 1]\n",
      "abs(x) =  [2 1 0 1 2]\n",
      "theta      = [0.         1.57079633 3.14159265]\n",
      "sin(theta) = [0.0000000e+00 1.0000000e+00 1.2246468e-16]\n",
      "cos(theta) = [ 1.000000e+00  6.123234e-17 -1.000000e+00]\n",
      "tan(theta) = [ 0.00000000e+00  1.63312394e+16 -1.22464680e-16]\n",
      "x     = [1, 2, 3]\n",
      "e^x   = [ 2.71828183  7.3890561  20.08553692]\n",
      "2^x   = [2. 4. 8.]\n",
      "3^x   = [ 3  9 27]\n",
      "x        = [1, 2, 4, 10]\n",
      "ln(x)    = [0.         0.69314718 1.38629436 2.30258509]\n",
      "log2(x)  = [0.         1.         2.         3.32192809]\n",
      "log10(10)= [0.         0.30103    0.60205999 1.        ]\n",
      "exp(x) - 1 [0.         0.0010005  0.01005017 0.10517092]\n",
      "log(1 + x) [0.         0.0009995  0.00995033 0.09531018]\n"
     ]
    }
   ],
   "source": [
    "# 计算\n",
    "\n",
    "x = np.arange(4)\n",
    "print(\"x     =\", x)\n",
    "print(\"x + 5 =\", x+5)\n",
    "print(\"x - 5 =\", x-5)\n",
    "print(\"x * 2 =\", x*2)\n",
    "print(\"x / 2 =\", x/2)\n",
    "print(\"x // 2=\", x//2)\n",
    "\n",
    "x = np.array([-2, -1, 0, 1, 2])   \n",
    "print(\"abs(x) = \", np.abs(x))\n",
    "\n",
    "\n",
    "theta = np.linspace(0, np.pi, 3)\n",
    "print(\"theta      =\", theta)\n",
    "print(\"sin(theta) =\", np.sin(theta))\n",
    "print(\"cos(theta) =\", np.cos(theta))\n",
    "print(\"tan(theta) =\", np.tan(theta))\n",
    "\n",
    "\n",
    "x = [1, 2, 3]\n",
    "print(\"x     =\", x)\n",
    "print(\"e^x   =\", np.exp(x))\n",
    "print(\"2^x   =\", np.exp2(x))\n",
    "print(\"3^x   =\", np.power(3, x))\n",
    "\n",
    "x = [1, 2, 4, 10]\n",
    "print(\"x        =\", x)\n",
    "print(\"ln(x)    =\", np.log(x))\n",
    "print(\"log2(x)  =\", np.log2(x))\n",
    "print(\"log10(10)=\", np.log10(x))\n",
    "\n",
    "x = [0, 0.001, 0.01, 0.1]\n",
    "print(\"exp(x) - 1\", np.expm1(x))\n",
    "print(\"log(1 + x)\", np.log1p(x))"
   ]
  },
  {
   "cell_type": "code",
   "execution_count": 93,
   "metadata": {},
   "outputs": [
    {
     "name": "stdout",
     "output_type": "stream",
     "text": [
      "gamma(x)    = [1.0000e+00 2.4000e+01 3.6288e+05]\n",
      "ln|gamma(x) = [ 0.          3.17805383 12.80182748]\n",
      "beta(x, 2)  = [0.5        0.03333333 0.00909091]\n",
      "erf(x)   = [0.         0.32862676 0.67780119 0.84270079]\n",
      "erfc(x)  = [1.         0.67137324 0.32219881 0.15729921]\n",
      "erfinv(x)= [0.         0.27246271 0.73286908        inf]\n"
     ]
    }
   ],
   "source": [
    "# 专用的通用函数\n",
    "\n",
    "from scipy import special\n",
    "\n",
    "x = [1, 5, 10]\n",
    "print(\"gamma(x)    =\", special.gamma(x))\n",
    "print(\"ln|gamma(x) =\", special.gammaln(x))\n",
    "print(\"beta(x, 2)  =\", special.beta(x, 2))\n",
    "\n",
    "x = np.array([0, 0.3, 0.7, 1.0])\n",
    "print(\"erf(x)   =\", special.erf(x))\n",
    "print(\"erfc(x)  =\", special.erfc(x))\n",
    "print(\"erfinv(x)=\", special.erfinv(x))"
   ]
  },
  {
   "cell_type": "code",
   "execution_count": 101,
   "metadata": {},
   "outputs": [
    {
     "name": "stdout",
     "output_type": "stream",
     "text": [
      "[ 0. 10. 20. 30. 40.]\n",
      "[ 1.  0.  2.  0.  4.  0.  8.  0. 16.  0.]\n",
      "15\n",
      "[  1   2   6  24 120]\n",
      "[[ 1  2  3  4  5]\n",
      " [ 2  4  6  8 10]\n",
      " [ 3  6  9 12 15]\n",
      " [ 4  8 12 16 20]\n",
      " [ 5 10 15 20 25]]\n"
     ]
    }
   ],
   "source": [
    "# 高级的通用函数的特性\n",
    "\n",
    "# 指定输出\n",
    "x = np.arange(5)\n",
    "y = np.empty(5)\n",
    "np.multiply(x, 10, out=y)    #指出输出位置   节省内存\n",
    "print(y)\n",
    "\n",
    "y = np.zeros(10)\n",
    "np.power(2, x, out=y[::2])\n",
    "print(y)\n",
    "\n",
    "\n",
    "\n",
    "# 聚合\n",
    "x = np.arange(1, 6)\n",
    "print(np.add.reduce(x))\n",
    "print(np.multiply.accumulate(x))\n",
    "\n",
    "\n",
    "# 外积\n",
    "x = np.arange(1, 6)\n",
    "print(np.multiply.outer(x, x))"
   ]
  },
  {
   "cell_type": "code",
   "execution_count": 110,
   "metadata": {},
   "outputs": [
    {
     "name": "stdout",
     "output_type": "stream",
     "text": [
      "49.79177960825381\n",
      "0.0013149036490764932\n",
      "0.9765358381416007\n",
      "6.078484991580654\n",
      "[0.43230463 0.19381156 0.22533182 0.172783  ]\n",
      "[0.61288692 0.6769034  0.95974272]\n"
     ]
    }
   ],
   "source": [
    "# 聚合：最小值、最大值和其他值\n",
    "\n",
    "L = np.random.random(100)\n",
    "print(np.sum(L))\n",
    "print(np.min(L))\n",
    "print(np.max(L))\n",
    "\n",
    "M = np.random.random((3, 4))\n",
    "print(M.sum())\n",
    "print(M.min(axis=0))\n",
    "print(M.max(axis=1))"
   ]
  }
 ],
 "metadata": {
  "kernelspec": {
   "display_name": "Python 3",
   "language": "python",
   "name": "python3"
  },
  "language_info": {
   "codemirror_mode": {
    "name": "ipython",
    "version": 3
   },
   "file_extension": ".py",
   "mimetype": "text/x-python",
   "name": "python",
   "nbconvert_exporter": "python",
   "pygments_lexer": "ipython3",
   "version": "3.6.5"
  }
 },
 "nbformat": 4,
 "nbformat_minor": 2
}
